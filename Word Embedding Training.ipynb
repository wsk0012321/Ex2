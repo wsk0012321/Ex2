{
 "cells": [
  {
   "cell_type": "code",
   "execution_count": 6,
   "id": "21d97fea",
   "metadata": {},
   "outputs": [],
   "source": [
    "import os\n",
    "# get default root\n",
    "root = os.getcwd()\n",
    "import easygui\n",
    "# select root of file\n",
    "train_data = easygui.fileopenbox(default = root)"
   ]
  },
  {
   "cell_type": "code",
   "execution_count": 7,
   "id": "82e3f362",
   "metadata": {},
   "outputs": [],
   "source": [
    "import conllu\n",
    "# read corpus\n",
    "raw_data = conllu.parse(open(train_data, encoding = \"utf-8\").read())\n",
    "\n",
    "sentences = []\n",
    "for sent in raw_data:\n",
    "    # append each token\n",
    "    token_list = [token[\"form\"] for token in sent]\n",
    "    # append each sentence to list\n",
    "    sentences.append(token_list)        "
   ]
  },
  {
   "cell_type": "code",
   "execution_count": 3,
   "id": "b70eac2c",
   "metadata": {},
   "outputs": [
    {
     "name": "stderr",
     "output_type": "stream",
     "text": [
      "D:\\Anaconda\\lib\\site-packages\\numpy\\_distributor_init.py:30: UserWarning: loaded more than 1 DLL from .libs:\n",
      "D:\\Anaconda\\lib\\site-packages\\numpy\\.libs\\libopenblas.GK7GX5KEQ4F6UYO3P26ULGBQYHGQO7J4.gfortran-win_amd64.dll\n",
      "D:\\Anaconda\\lib\\site-packages\\numpy\\.libs\\libopenblas.JPIJNSWNNAN3CE6LLI5FWSPHUT2VXMTH.gfortran-win_amd64.dll\n",
      "D:\\Anaconda\\lib\\site-packages\\numpy\\.libs\\libopenblas64__v0.3.21-gcc_10_3_0.dll\n",
      "  warnings.warn(\"loaded more than 1 DLL from .libs:\"\n"
     ]
    }
   ],
   "source": [
    "import gensim\n",
    "from gensim.models import Word2Vec"
   ]
  },
  {
   "cell_type": "code",
   "execution_count": 8,
   "id": "ea5202fd",
   "metadata": {},
   "outputs": [],
   "source": [
    "# train the word embedding model, you can personalize the parameters here\n",
    "model = Word2Vec(sentences, window = 6, vector_size = 256, epochs = 25)"
   ]
  },
  {
   "cell_type": "code",
   "execution_count": 9,
   "id": "5c658908",
   "metadata": {},
   "outputs": [],
   "source": [
    "# name the model\n",
    "name = easygui.enterbox(msg = \"Name your model\")\n",
    "save_model = root + \"/\" + name + \".model\"\n",
    "save_model_txt = root + \"/\" + name + \".txt\" \n",
    "# save the model in format .model\n",
    "model.save(save_model)\n",
    "# save as txt\n",
    "model.wv.save_word2vec_format(save_model_txt, binary = False)"
   ]
  },
  {
   "cell_type": "code",
   "execution_count": 26,
   "id": "770d4ee4",
   "metadata": {},
   "outputs": [],
   "source": [
    "import gzip\n",
    "file_in = open(save_model_txt,\"rb\")\n",
    "file_zip = gzip.open(root + \"/\" + name + \"txt.gz\", \"wb\")\n",
    "file_zip.writelines(file_in)\n",
    "file_zip.close()\n",
    "file_in.close()"
   ]
  },
  {
   "cell_type": "code",
   "execution_count": null,
   "id": "a509f3a1",
   "metadata": {},
   "outputs": [],
   "source": []
  }
 ],
 "metadata": {
  "kernelspec": {
   "display_name": "Python 3",
   "language": "python",
   "name": "python3"
  },
  "language_info": {
   "codemirror_mode": {
    "name": "ipython",
    "version": 3
   },
   "file_extension": ".py",
   "mimetype": "text/x-python",
   "name": "python",
   "nbconvert_exporter": "python",
   "pygments_lexer": "ipython3",
   "version": "3.8.8"
  }
 },
 "nbformat": 4,
 "nbformat_minor": 5
}
